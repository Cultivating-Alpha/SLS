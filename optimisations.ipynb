{
  "cells": [
    {
      "cell_type": "code",
      "metadata": {
        "jukit_cell_id": "fn6jtakTMf"
      },
      "source": [
        "import pandas as pd\n",
        "import numpy as np\n",
        "\n",
        "\n",
        "def load_data(data=\"BTC\"):\n",
        "    df = pd.read_parquet(f\"./optimisations/{data}.parquet\")\n",
        "    return df\n",
        "\n",
        "\n",
        "btc = load_data(\"BTC\")  # There is a total of 1.8M rows\n",
        "eth = load_data(\"ETH\")  # There is a total of 5.4M rows"
      ],
      "outputs": [
        {
          "output_type": "stream",
          "name": "stdout",
          "text": "\n"
        },
        {
          "output_type": "execute_result",
          "execution_count": 1,
          "data": {
            "text/plain": "'\\nYou can also load ETH data by running\\neth = load_data(\"ETH\")\\n'"
          },
          "metadata": {}
        }
      ],
      "execution_count": 1
    },
    {
      "cell_type": "code",
      "metadata": {
        "jukit_cell_id": "Ml645FTVLN"
      },
      "source": [
        "# How to sort the arrays\n",
        "sorted_by_dd = btc.sort_values(by=[\"dd\"], ascending=False)\n",
        "sorted_by_final_value = btc.sort_values(by=[\"final_value\"], ascending=False)\n",
        "sorted_by_ratio = btc.sort_values(by=[\"ratio\"], ascending=False)\n",
        "\"\"\"\n",
        "Ratio = final_value / dd\n",
        "A ratio > 3 means that we don't drawdown more than 30% of max equity\n",
        "\"\"\"\n",
        "\n",
        "sorted_by_ratio.head(10)"
      ],
      "outputs": [
        {
          "output_type": "stream",
          "name": "stdout",
          "text": "\n"
        },
        {
          "output_type": "execute_result",
          "execution_count": 2,
          "data": {
            "text/plain": "                         final_value        dd  ...     ratio  buy_and_hold\n[113.0, 35.0, 3.0, 0.5]      11027.0  1.941629  ...  5.289372     59.022705\n[110.0, 35.0, 3.0, 5.5]      11027.0  1.941629  ...  5.289372     59.022705\n[110.0, 35.0, 3.0, 2.5]      11027.0  1.941629  ...  5.289372     59.022705\n[110.0, 35.0, 3.0, 3.0]      11027.0  1.941629  ...  5.289372     59.022705\n[110.0, 35.0, 3.0, 3.5]      11027.0  1.941629  ...  5.289372     59.022705\n[110.0, 35.0, 3.0, 4.0]      11027.0  1.941629  ...  5.289372     59.022705\n[110.0, 35.0, 3.0, 4.5]      11027.0  1.941629  ...  5.289372     59.022705\n[110.0, 35.0, 3.0, 5.0]      11027.0  1.941629  ...  5.289372     59.022705\n[110.0, 35.0, 3.0, 6.0]      11027.0  1.941629  ...  5.289372     59.022705\n[110.0, 35.0, 3.0, 1.5]      11027.0  1.941629  ...  5.289372     59.022705\n\n[10 rows x 5 columns]"
          },
          "metadata": {}
        }
      ],
      "execution_count": 2
    },
    {
      "cell_type": "code",
      "metadata": {
        "jukit_cell_id": "9jQ1Bhbi1a"
      },
      "source": [
        "def find_index_or_param(arr, target):\n",
        "    \"\"\"\n",
        "    Use this to look for a certain parameter combination inside the dataframe\n",
        "    \"\"\"\n",
        "    df = arr.copy()\n",
        "    df.reset_index(inplace=True)\n",
        "    for i, item in enumerate(df[\"index\"].values):\n",
        "        if np.array_equal(item, target_element):\n",
        "            return i\n",
        "\n",
        "\n",
        "def print_values_at_index(df, index):\n",
        "    print(df.reset_index().iloc[index])\n",
        "\n",
        "\n",
        "\"\"\"\n",
        "Here is an example of to look for the index of a certain parameter combination\n",
        "As well as how to print the values at that index\n",
        "\"\"\"\n",
        "target_element = [112, 35, 3, 0.5]\n",
        "index = find_index_or_param(btc, target_element)\n",
        "print(index)\n",
        "\n",
        "print_values_at_index(btc, index)"
      ],
      "outputs": [
        {
          "output_type": "stream",
          "name": "stdout",
          "text": "87\nindex           [112.0, 35.0, 3.0, 0.5]\nfinal_value                     11027.0\ndd                             1.941629\ntotal_return                      10.27\nratio                          5.289372\nbuy_and_hold                  59.022705\nName: 87, dtype: object\n"
        }
      ],
      "execution_count": 3
    }
  ],
  "metadata": {
    "anaconda-cloud": {},
    "kernelspec": {
      "display_name": "python",
      "language": "python",
      "name": "python3"
    }
  },
  "nbformat": 4,
  "nbformat_minor": 4
}