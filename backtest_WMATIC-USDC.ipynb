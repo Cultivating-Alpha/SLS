{
  "cells": [
    {
      "cell_type": "code",
      "execution_count": 1,
      "metadata": {
        "jukit_cell_id": "yQB6fLcUWK"
      },
      "outputs": [
        {
          "name": "stdout",
          "output_type": "stream",
          "text": [
            "Started Trading Strategy in Jupyter notebook environment, configuration is stored in /home/alpha/.tradingstrategy\n"
          ]
        }
      ],
      "source": [
        "import pandas as pd\n",
        "import datetime\n",
        "\n",
        "from lib.ts_backtester import Backtester\n",
        "from strategies.rsi_2.S_rsi_plot import plot\n",
        "\n",
        "import pandas_ta as ta\n",
        "from tradeexecutor.strategy.pandas_trader.position_manager import PositionManager\n",
        "from tradingstrategy.timebucket import TimeBucket\n",
        "from tradingstrategy.chain import ChainId\n",
        "\n",
        "backtester = Backtester(\n",
        "    candle_time_bucket=TimeBucket.h4,\n",
        "    stop_loss_time_bucket=TimeBucket.m1,\n",
        "    trading_pair=[(ChainId.polygon, \"uniswap-v3\", \"WMATIC\", \"USDC\", 0.0005)],\n",
        "    start_at=datetime.datetime(2021, 1, 1),\n",
        "    end_at=datetime.datetime(2023, 6, 4),\n",
        "    reserve_currency=\"USDC\",\n",
        ")\n"
      ]
    },
    {
      "cell_type": "code",
      "execution_count": 4,
      "metadata": {
        "jukit_cell_id": "0odf4siOwY"
      },
      "outputs": [],
      "source": [
        "ma_long = 295\n",
        "ma_short = 11\n",
        "rsi_cutt = 9\n",
        "atr_distance = 2.5\n",
        "\n",
        "import numpy as np\n",
        "\n",
        "\n",
        "def get_signals(candles):\n",
        "    close = candles[\"close\"].iloc[-1]\n",
        "    low = candles[\"low\"].iloc[-1]\n",
        "\n",
        "    # Calculate indicators\n",
        "    sma_short = ta.sma(candles[\"close\"], length=ma_short)\n",
        "    sma_short = ta.sma(candles[\"close\"], length=ma_short).iloc[-1]\n",
        "    sma_long = ta.sma(candles[\"close\"], length=ma_long).iloc[-1]\n",
        "    rsi = ta.rsi(candles[\"close\"], length=2).iloc[-1]\n",
        "    atr = ta.atr(candles[\"high\"], candles[\"low\"], candles[\"close\"], length=14).iloc[-1]\n",
        "\n",
        "    # Calculate signals\n",
        "\n",
        "    entry = close <= sma_short and close >= sma_long and rsi <= rsi_cutt\n",
        "    exit = close > sma_short\n",
        "    sl = low - atr * atr_distance\n",
        "    sl_pct = float(round(sl / candles[\"open\"].iloc[-1], 6))\n",
        "\n",
        "    indicators = {\n",
        "        \"sma_short\": sma_short,\n",
        "        \"sma_long\": sma_long,\n",
        "        \"rsi\": rsi,\n",
        "        \"atr\": atr,\n",
        "    }\n",
        "    return entry, exit, sl, sl_pct, indicators\n",
        "\n",
        "\n",
        "def calculate_size(state, close):\n",
        "    cash = state.portfolio.get_current_cash()\n",
        "    return cash * 0.99\n",
        "\n",
        "\n",
        "current_sl = np.inf\n",
        "\n",
        "\n",
        "def loop(timestamp, universe, state, pricing_model, cycle_debug_data):\n",
        "    # The pair we are trading\n",
        "    trades = []\n",
        "    pair = universe.pairs.get_single()\n",
        "\n",
        "    candles: pd.DataFrame = universe.candles.get_single_pair_data(\n",
        "        timestamp, sample_count=ma_long\n",
        "    )\n",
        "\n",
        "    if len(candles) < ma_long:\n",
        "        # Backtest starting.\n",
        "        # By default get_single_pair_data() returns the candles prior to the `timestamp`,\n",
        "        # the behavior can be changed with get_single_pair_data(allow_current=True).\n",
        "        # At the start of the backtest, we do not have any previous candle available yet,\n",
        "        # so we cannot ask the the close price.\n",
        "        return trades\n",
        "\n",
        "    current_price = candles[\"close\"].iloc[-1]\n",
        "\n",
        "    entry, exit, sl, sl_pct, indicators = get_signals(candles)\n",
        "    global current_sl\n",
        "\n",
        "    # Create a position manager helper class that allows us easily to create\n",
        "    # opening/closing trades for different positions\n",
        "    position_manager = PositionManager(timestamp, universe, state, pricing_model)\n",
        "    buy_amount = calculate_size(state, current_price)\n",
        "\n",
        "    if not position_manager.is_any_open():\n",
        "        if entry:\n",
        "            # print(sl)\n",
        "            # sl = 0.98\n",
        "            current_sl = sl\n",
        "            trades += position_manager.open_1x_long(pair, buy_amount)\n",
        "            # trades += position_manager.open_1x_long(pair, buy_amount, stop_loss_pct=sl_pct)\n",
        "    else:\n",
        "        if exit:\n",
        "            current_sl = np.inf\n",
        "            trades += position_manager.close_all()\n",
        "        elif current_price < current_sl:\n",
        "            current_sl = np.inf\n",
        "            trades += position_manager.close_all()\n",
        "\n",
        "    plot(state, timestamp, indicators)\n",
        "\n",
        "    return trades\n",
        "\n",
        "\n",
        "start_at = datetime.datetime(2022, 8, 30)\n",
        "end_at = datetime.datetime(2023, 6, 4)"
      ]
    },
    {
      "cell_type": "code",
      "execution_count": 5,
      "metadata": {
        "jukit_cell_id": "nG9q1XPcyc"
      },
      "outputs": [
        {
          "data": {
            "application/vnd.jupyter.widget-view+json": {
              "model_id": "db6b66a0dfa34fd28348f44827de3546",
              "version_major": 2,
              "version_minor": 0
            },
            "text/plain": [
              "  0%|          | 0/24019200 [00:00<?, ?it/s]"
            ]
          },
          "metadata": {},
          "output_type": "display_data"
        },
        {
          "name": "stdout",
          "output_type": "stream",
          "text": [
            "Backtesting completed, backtested strategy made 48 trades\n",
            "==========\n",
            "Total return: 55.45%\n",
            "Max Drawdown: -21.84%\n"
          ]
        }
      ],
      "source": [
        "backtester.backtest(start_at, end_at, loop)\n",
        "backtester.stats()\n",
        "# backtester.general_stats()\n",
        "# backtester.plot()"
      ]
    }
  ],
  "metadata": {
    "anaconda-cloud": {},
    "kernelspec": {
      "display_name": "python",
      "language": "python",
      "name": "python3"
    },
    "language_info": {
      "codemirror_mode": {
        "name": "ipython",
        "version": 3
      },
      "file_extension": ".py",
      "mimetype": "text/x-python",
      "name": "python",
      "nbconvert_exporter": "python",
      "pygments_lexer": "ipython3",
      "version": "3.10.3"
    }
  },
  "nbformat": 4,
  "nbformat_minor": 4
}
