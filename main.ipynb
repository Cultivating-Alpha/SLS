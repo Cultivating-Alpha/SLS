{
  "cells": [
    {
      "cell_type": "code",
      "metadata": {
        "jukit_cell_id": "SZUpNPeecJ"
      },
      "source": [
        "from threading import currentThread\n",
        "import pandas as pd\n",
        "from typing import List, Dict\n",
        "\n",
        "from lib.ts_backtester import Backtester\n",
        "from strategies.rsi_2.S_rsi_plot import plot\n",
        "\n",
        "from tradeexecutor.state.trade import TradeExecution\n",
        "from tradeexecutor.strategy.pandas_trader.position_manager import PositionManager\n",
        "from tradeexecutor.state.state import State\n",
        "from tradingstrategy.universe import Universe\n",
        "\n",
        "from pandas_ta.overlap import ema, sma\n",
        "from pandas_ta.momentum import rsi"
      ],
      "outputs": [],
      "execution_count": null
    },
    {
      "cell_type": "code",
      "metadata": {
        "jukit_cell_id": "0odf4siOwY"
      },
      "source": [
        "batch_size = 200\n",
        "slow_ema_candle_count = 15\n",
        "fast_ema_candle_count = 5\n",
        "position_size = 0.10\n",
        "\n",
        "\n",
        "def calculate_indicators(candles, timestamp: pd.Timestamp):\n",
        "    close = candles[\"close\"]\n",
        "\n",
        "    # Calculate exponential moving averages based on slow and fast sample numbers.\n",
        "    sma_short_series = sma(close, length=5)\n",
        "    sma_long_series = sma(close, length=200)\n",
        "    rsi_series = rsi(close, length=2)\n",
        "\n",
        "    if sma_long_series is None or rsi_series is None:\n",
        "        return None, None\n",
        "\n",
        "    sma_long = sma_long_series.iloc[-1]\n",
        "    sma_short = sma_short_series.iloc[-1]\n",
        "    my_rsi = rsi_series.iloc[-1]\n",
        "\n",
        "    return sma_short, sma_long, my_rsi\n",
        "\n",
        "\n",
        "def calculate_size(state):\n",
        "    # How much cash we have in the hand\n",
        "    cash = state.portfolio.get_current_cash()\n",
        "    return cash * position_size\n",
        "\n",
        "\n",
        "def loop(\n",
        "    timestamp: pd.Timestamp,\n",
        "    universe: Universe,\n",
        "    state: State,\n",
        "    pricing_model,\n",
        "    cycle_debug_data: Dict,\n",
        ") -> List[TradeExecution]:\n",
        "    # The pair we are trading\n",
        "    pair = universe.pairs.get_single()\n",
        "\n",
        "    candles: pd.DataFrame = universe.candles.get_single_pair_data(\n",
        "        timestamp, sample_count=batch_size\n",
        "    )\n",
        "\n",
        "    sma_short, sma_long, my_rsi = calculate_indicators(candles, timestamp)\n",
        "\n",
        "    open, high, low, close = (\n",
        "        candles[\"open\"],\n",
        "        candles[\"high\"],\n",
        "        candles[\"low\"],\n",
        "        candles[\"close\"],\n",
        "    )\n",
        "\n",
        "    # if sma_short is None or sma_long is None:\n",
        "    #     # Cannot calculate EMA, because\n",
        "    #     # not enough samples in backtesting\n",
        "    #     print(\"We have none\")\n",
        "    #     return []\n",
        "    current_price = close.iloc[-1]\n",
        "    # print(close)\n",
        "\n",
        "    # List of any trades we decide on this cycle.\n",
        "    # Because the strategy is simple, there can be\n",
        "    # only zero (do nothing) or 1 (open or close) trades\n",
        "    # decides\n",
        "    trades = []\n",
        "\n",
        "    # Create a position manager helper class that allows us easily to create\n",
        "    # opening/closing trades for different positions\n",
        "    position_manager = PositionManager(timestamp, universe, state, pricing_model)\n",
        "\n",
        "    if current_price >= sma_long and current_price <= sma_short and my_rsi <= 10:\n",
        "        # Entry condition:\n",
        "        if not position_manager.is_any_open():\n",
        "            print(\"====================\")\n",
        "            print(open.iloc[-1], high.iloc[-1], low.iloc[-1], close.iloc[-1])\n",
        "            print(current_price, sma_long, sma_short)\n",
        "            buy_amount = calculate_size(state)\n",
        "            trades += position_manager.open_1x_long(pair, buy_amount)\n",
        "    elif current_price > sma_short:\n",
        "        # Exit condition:\n",
        "        if position_manager.is_any_open():\n",
        "            trades += position_manager.close_all()\n",
        "\n",
        "    # plot(state, timestamp, sma, rsi)\n",
        "    plot(state, timestamp, sma_long, sma_short, my_rsi)\n",
        "\n",
        "    return trades"
      ],
      "outputs": [],
      "execution_count": null
    },
    {
      "cell_type": "code",
      "metadata": {
        "jukit_cell_id": "yQB6fLcUWK"
      },
      "source": [
        "import datetime\n",
        "from tradingstrategy.timebucket import TimeBucket\n",
        "from tradingstrategy.chain import ChainId\n",
        "\n",
        "backtester = Backtester()\n",
        "start_at = datetime.datetime(2021, 6, 1)\n",
        "end_at = datetime.datetime(2022, 1, 1)\n",
        "\n",
        "backtester.create_universe(\n",
        "    timeframe=TimeBucket.h4,\n",
        "    trading_pair=(\"WBNB\", \"BUSD\"),\n",
        "    chain_id=ChainId.bsc,\n",
        "    exchange_slug=\"pancakeswap-v2\",\n",
        ")\n",
        "\n",
        "backtester.backtest(start_at, end_at, loop)\n",
        "# backtester.stats()"
      ],
      "outputs": [
        {
          "output_type": "stream",
          "name": "stdout",
          "text": "90\n90\n90\n90\n90\n90\n90\n90\n90\n90\n90\n90\n90\n90\n90\n90\n90\n90\n90\n90\n90\n90\n90\n90\n90\n90\n90\n90\n90\n90\n90\n90\n90\n90\n90\n90\n90\n90\n90\n90\n90\n90\n90\n90\n90\n90\n90\n90\n90\n90\n90\n90\n90\n90\n90\n90\n90\n90\n90\n90\n90\n90\n90\n90\n90\n90\n90\n90\n90\n90\n90\n90\n90\n90\n90\n90\n90\n90\n90\n90\n90\n90\n90\n90\n90\n90\n90\n90\n90\n90\n90\n90\n90\n90\n90\n90\n90\n90\n90\n90\n90\n90\n90\n90\n90\n90\n90\n90\n90\n90\n90\n90\n90\n90\n90\n90\n90\n90\n90\n90\n90\n90\n90\n90\n90\n90\n90\n90\n90\n90\n90\n90\n90\n90\n90\n90\n90\n90\n90\n90\n90\n90\n90\n90\n90\n90\n90\n90\n90\n90\n90\n90\n90\n90\n90\n90\n90\n90\n90\n90\n90\n90\n90\n90\n90\n90\n90\n90\n90\n90\n90\n90\n90\n90\n90\n90\n90\n90\n90\n90\n90\n90\n90\n90\n90\n90\n90\n90\n90\n90\n90\n90\n90\n90\n90\n90\n90\n90\n90\n90\n90\n90\n90\n90\n90\n90\n90\n90\n90\n90\n90\n90\n90\n90\n90\n90\n90\n90\n90\n90\n90\n90\n90\n90\n90\n90\n90\n90\n90\n90\n90\n90\n90\n90\n90\n90\n90\n90\n90\n90\n90\n90\n90\n90\n90\n90\n90\n90\n90\n90\n90\n90\n90\n90\n90\n90\n90\n90\n90\n90\n90\n90\n90\n90\n90\n90\n90\n90\n90\n90\n90\n90\n90\n90\n90\n90\n90\n90\n90\n90\n90\n90\n90\n90\n90\n90\n90\n90\n90\n90\n90\n90\n90\n90\n90\n90\n90\n90\n90\n90\n90\n90\n90\n90\n90\n90\n90\n90\n90\n90\n90\n90\n90\n90\n90\n90\n90\n90\n90\n90\n90\n90\nBacktesting completed, backtested strategy made 36 trades\n                             Strategy\nStart Period               2021-05-31\nEnd Period                 2021-12-31\nRisk-Free Rate                   0.0%\nTime in Market                  89.0%\nCumulative Return               5.57%\nCAGR\ufe6a                           9.68%\nSharpe                           0.95\nProb. Sharpe Ratio             81.31%\nSmart Sharpe                     0.91\nSortino                           1.4\nSmart Sortino                    1.34\nSortino/\u221a2                       0.99\nSmart Sortino/\u221a2                 0.95\nOmega                            1.17\nMax Drawdown                   -4.73%\nLongest DD Days                    77\nVolatility (ann.)               6.69%\nCalmar                           2.05\nSkew                             -0.1\nKurtosis                         3.82\nExpected Daily                  0.02%\nExpected Monthly                0.68%\nExpected Yearly                 5.57%\nKelly Criterion                 6.96%\nRisk of Ruin                     0.0%\nDaily Value-at-Risk            -0.56%\nExpected Shortfall (cVaR)      -0.56%\nMax Consecutive Wins                7\nMax Consecutive Losses              5\nGain/Pain Ratio                   0.2\nGain/Pain (1M)                   1.39\nPayoff Ratio                     1.22\nProfit Factor                    1.17\nCommon Sense Ratio               1.37\nCPC Index                        0.69\nTail Ratio                       1.18\nOutlier Win Ratio                3.99\nOutlier Loss Ratio               4.67\nMTD                            -1.11%\n3M                              4.81%\n6M                              6.79%\nYTD                             5.57%\n1Y                              5.57%\n3Y (ann.)                       9.68%\n5Y (ann.)                       9.68%\n10Y (ann.)                      9.68%\nAll-time (ann.)                 9.68%\nBest Day                        1.52%\nWorst Day                      -1.49%\nBest Month                      3.76%\nWorst Month                    -1.71%\nBest Year                       5.57%\nWorst Year                      5.57%\nAvg. Drawdown                  -1.36%\nAvg. Drawdown Days                 22\nRecovery Factor                  1.18\nUlcer Index                      0.02\nSerenity Index                   0.23\nAvg. Up Month                   2.43%\nAvg. Down Month                -1.37%\nWin Days                       48.95%\nWin Month                      57.14%\nWin Quarter                    66.67%\nWin Year                       100.0%\n==========\nTotal return: 5.57%\nMax Drawdown: -4.73%\n"
        }
      ],
      "execution_count": 1
    },
    {
      "cell_type": "code",
      "metadata": {
        "jukit_cell_id": "jxQSz2zcWR"
      },
      "source": [
        "backtester.plot()"
      ],
      "outputs": [],
      "execution_count": null
    }
  ],
  "metadata": {
    "anaconda-cloud": {},
    "kernelspec": {
      "display_name": "python",
      "language": "python",
      "name": "python3"
    }
  },
  "nbformat": 4,
  "nbformat_minor": 4
}