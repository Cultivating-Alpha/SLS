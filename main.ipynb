{
  "cells": [
    {
      "cell_type": "code",
      "metadata": {
        "jukit_cell_id": "7p077yvyxF"
      },
      "source": [
        "import pandas as pd\n",
        "import datetime\n",
        "\n",
        "from lib.ts_backtester import Backtester\n",
        "from strategies.rsi_2.S_rsi_plot import plot\n",
        "\n",
        "from tradeexecutor.state.trade import TradeExecution\n",
        "from tradeexecutor.strategy.pandas_trader.position_manager import PositionManager\n",
        "from tradeexecutor.state.state import State\n",
        "from tradingstrategy.universe import Universe\n",
        "\n",
        "import pandas_ta as ta"
      ],
      "outputs": [
        {
          "output_type": "stream",
          "name": "stdout",
          "text": "Started Trading Strategy in Jupyter notebook environment, configuration is stored in /home/alpha/.tradingstrategy\n"
        }
      ],
      "execution_count": 1
    },
    {
      "cell_type": "code",
      "metadata": {
        "jukit_cell_id": "yQB6fLcUWK"
      },
      "source": [
        "from tradingstrategy.timebucket import TimeBucket\n",
        "from tradingstrategy.chain import ChainId\n",
        "\n",
        "# Make sure that backtester is defined or not\n",
        "backtester = Backtester(\n",
        "    candle_time_bucket=TimeBucket.h4,\n",
        "    stop_loss_time_bucket=TimeBucket.h1,\n",
        "    trading_pair=[(ChainId.ethereum, \"uniswap-v3\", \"WETH\", \"USDC\", 0.0005)],\n",
        "    start_at=datetime.datetime(2021, 1, 1),\n",
        "    end_at=datetime.datetime(2023, 6, 4),\n",
        "    reserve_currency=\"USDC\",\n",
        ")\n",
        "# try:\n",
        "#     backtester\n",
        "# except NameError:\n",
        "#     print(\"backtester is not defined\")\n",
        "#     backtester = Backtester(\n",
        "#         timeframe=TimeBucket.h4,\n",
        "#         trading_pair=(\"WBNB\", \"BUSD\"),\n",
        "#         chain_id=ChainId.bsc,\n",
        "#         exchange_slug=\"pancakeswap-v2\",\n",
        "#     )\n",
        "#     timeframe=TimeBucket.h4,\n",
        "#     trading_pair=(\"WBNB\", \"BUSD\"),\n",
        "#     chain_id=ChainId.bsc,\n",
        "#     exchange_slug=\"pancakeswap-v2\",\n",
        "# )"
      ],
      "outputs": [],
      "execution_count": null
    },
    {
      "cell_type": "code",
      "metadata": {
        "jukit_cell_id": "0odf4siOwY"
      },
      "source": [
        "ma_long = 216\n",
        "ma_short = 9\n",
        "rsi_cutt = 13\n",
        "atr_distance = 2\n",
        "\n",
        "import numpy as np\n",
        "\n",
        "\n",
        "def get_signals(candles):\n",
        "    close = candles[\"close\"].iloc[-1]\n",
        "    low = candles[\"low\"].iloc[-1]\n",
        "\n",
        "    # Calculate indicators\n",
        "    sma_short = ta.sma(candles[\"close\"], length=ma_short)\n",
        "    sma_short = ta.sma(candles[\"close\"], length=ma_short).iloc[-1]\n",
        "    sma_long = ta.sma(candles[\"close\"], length=ma_long).iloc[-1]\n",
        "    rsi = ta.rsi(candles[\"close\"], length=2).iloc[-1]\n",
        "    atr = ta.atr(candles[\"high\"], candles[\"low\"], candles[\"close\"], length=14).iloc[-1]\n",
        "\n",
        "    # Calculate signals\n",
        "    entry = close >= sma_long and rsi <= rsi_cutt\n",
        "    exit = close > sma_short\n",
        "    sl = low - atr * atr_distance\n",
        "    sl_pct = float(round(sl / candles[\"open\"].iloc[-1], 2))\n",
        "\n",
        "    indicators = {\n",
        "        \"sma_short\": sma_short,\n",
        "        \"sma_long\": sma_long,\n",
        "        \"rsi\": rsi,\n",
        "        \"atr\": atr,\n",
        "    }\n",
        "    return entry, exit, sl_pct, indicators\n",
        "\n",
        "\n",
        "def calculate_size(state, close):\n",
        "    cash = state.portfolio.get_current_cash()\n",
        "    return cash * 0.99\n",
        "\n",
        "\n",
        "def loop(timestamp, universe, state, pricing_model, cycle_debug_data):\n",
        "    # The pair we are trading\n",
        "    trades = []\n",
        "    pair = universe.pairs.get_single()\n",
        "\n",
        "    candles: pd.DataFrame = universe.candles.get_single_pair_data(\n",
        "        timestamp, sample_count=ma_long\n",
        "    )\n",
        "\n",
        "    if len(candles) < ma_long:\n",
        "        # Backtest starting.\n",
        "        # By default get_single_pair_data() returns the candles prior to the `timestamp`,\n",
        "        # the behavior can be changed with get_single_pair_data(allow_current=True).\n",
        "        # At the start of the backtest, we do not have any previous candle available yet,\n",
        "        # so we cannot ask the the close price.\n",
        "        return trades\n",
        "\n",
        "    current_price = candles[\"close\"].iloc[-1]\n",
        "\n",
        "    entry, exit, sl, indicators = get_signals(candles)\n",
        "\n",
        "    # Create a position manager helper class that allows us easily to create\n",
        "    # opening/closing trades for different positions\n",
        "    position_manager = PositionManager(timestamp, universe, state, pricing_model)\n",
        "    buy_amount = calculate_size(state, current_price)\n",
        "\n",
        "    if not position_manager.is_any_open():\n",
        "        if entry:\n",
        "            sl = 0.98\n",
        "            # trades += position_manager.open_1x_long(pair, buy_amount)\n",
        "            trades += position_manager.open_1x_long(pair, buy_amount, stop_loss_pct=sl)\n",
        "    else:\n",
        "        if exit:\n",
        "            trades += position_manager.close_all()\n",
        "\n",
        "    plot(state, timestamp, indicators)\n",
        "\n",
        "    return trades\n",
        "\n",
        "\n",
        "start_at = datetime.datetime(2021, 9, 1)\n",
        "# end_at = datetime.datetime(2021, 10, 8)\n",
        "end_at = datetime.datetime(2021, 9, 7)\n",
        "\n",
        "\n",
        "backtester.backtest(start_at, end_at, loop)\n",
        "backtester.stats()\n",
        "backtester.general_stats()\n",
        "backtester.plot()"
      ],
      "outputs": [
        {
          "output_type": "stream",
          "name": "stdout",
          "text": "2021-09-07 00:00:00\nBacktesting completed, backtested strategy made 2 trades\n                             Strategy\nStart Period               2021-09-01\nEnd Period                 2021-09-06\nRisk-Free Rate                   0.0%\nTime in Market                  20.0%\nCumulative Return               0.84%\nCAGR\ufe6a                           83.5%\nSharpe                           1.04\nProb. Sharpe Ratio              62.5%\nSmart Sharpe                     0.67\nSortino                          1.51\nSmart Sortino                    0.98\nSortino/\u221a2                       1.07\nSmart Sortino/\u221a2                 0.69\nOmega                            1.33\nMax Drawdown                   -1.71%\nLongest DD Days                     0\nVolatility (ann.)               8.44%\nCalmar                           48.9\nSkew                            -0.32\nKurtosis                          7.5\nExpected Daily                  0.02%\nExpected Monthly                0.84%\nExpected Yearly                 0.84%\nKelly Criterion                14.29%\nRisk of Ruin                     0.0%\nDaily Value-at-Risk             -0.7%\nExpected Shortfall (cVaR)       -0.7%\nMax Consecutive Wins                2\nMax Consecutive Losses              1\nGain/Pain Ratio                   0.9\nGain/Pain (1M)                      -\nPayoff Ratio                      1.0\nProfit Factor                    1.33\nCommon Sense Ratio               3.06\nCPC Index                        0.76\nTail Ratio                       2.29\nOutlier Win Ratio                11.8\nOutlier Loss Ratio               1.55\nMTD                             0.84%\n3M                              0.84%\n6M                              0.84%\nYTD                             0.84%\n1Y                              0.84%\n3Y (ann.)                       83.5%\n5Y (ann.)                       83.5%\n10Y (ann.)                      83.5%\nAll-time (ann.)                 83.5%\nBest Day                        1.48%\nWorst Day                      -1.55%\nBest Month                      0.84%\nWorst Month                     0.84%\nBest Year                       0.84%\nWorst Year                      0.84%\nAvg. Drawdown                   -0.9%\nAvg. Drawdown Days                  0\nRecovery Factor                  0.49\nUlcer Index                       0.0\nSerenity Index                   0.93\nAvg. Up Month                   0.84%\nAvg. Down Month                     -\nWin Days                       57.14%\nWin Month                      100.0%\nWin Quarter                    100.0%\nWin Year                       100.0%\n==========\nTotal return: 0.84%\nMax Drawdown: -1.71%\n"
        }
      ],
      "execution_count": 2
    },
    {
      "cell_type": "code",
      "metadata": {
        "jukit_cell_id": "twF6gWbIHX"
      },
      "source": [
        "from tradeexecutor.analysis.trade_analyser import build_trade_analysis\n",
        "from IPython.core.display_functions import display\n",
        "\n",
        "analysis = build_trade_analysis(backtester.state.portfolio)\n",
        "from tradeexecutor.analysis.trade_analyser import expand_timeline\n",
        "\n",
        "timeline = analysis.create_timeline()\n",
        "\n",
        "expanded_timeline, apply_styles = expand_timeline(\n",
        "    backtester.universe.universe.exchanges, backtester.universe.universe.pairs, timeline\n",
        ")\n",
        "\n",
        "expanded_timeline.drop(\n",
        "    columns=[\n",
        "        \"Id\",\n",
        "        \"Remarks\",\n",
        "        \"Exchange\",\n",
        "        \"Trade count\",\n",
        "        \"Duration\",\n",
        "        \"Base asset\",\n",
        "        \"Quote asset\",\n",
        "        \"PnL %\",\n",
        "        \"PnL % raw\",\n",
        "    ],\n",
        "    inplace=True,\n",
        ")\n",
        "expanded_timeline\n",
        "# expanded_timeline[\"PnL USD\"]"
      ],
      "outputs": [
        {
          "output_type": "stream",
          "name": "stdout",
          "text": "\n"
        },
        {
          "output_type": "execute_result",
          "execution_count": 3,
          "data": {
            "text/plain": "  Close mid price USD LP fees Open mid price USD   Opened at PnL USD Position max value\n0       $3,926.441117   $9.94      $3,893.598980  2021-09-04  $83.51          $9,900.00"
          },
          "metadata": {}
        }
      ],
      "execution_count": 3
    }
  ],
  "metadata": {
    "anaconda-cloud": {},
    "kernelspec": {
      "display_name": "python",
      "language": "python",
      "name": "python3"
    }
  },
  "nbformat": 4,
  "nbformat_minor": 4
}