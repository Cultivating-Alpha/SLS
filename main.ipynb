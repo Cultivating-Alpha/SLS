{
  "cells": [
    {
      "cell_type": "code",
      "metadata": {
        "jukit_cell_id": "7p077yvyxF"
      },
      "source": [
        "import pandas as pd\n",
        "from typing import List, Dict\n",
        "\n",
        "from lib.ts_backtester import Backtester\n",
        "from strategies.rsi_2.S_rsi_plot import plot\n",
        "\n",
        "from tradeexecutor.state.trade import TradeExecution\n",
        "from tradeexecutor.strategy.pandas_trader.position_manager import PositionManager\n",
        "from tradeexecutor.state.state import State\n",
        "from tradingstrategy.universe import Universe\n",
        "\n",
        "from pandas_ta.overlap import ema, sma\n",
        "import pandas_ta as ta"
      ],
      "outputs": [],
      "execution_count": null
    },
    {
      "cell_type": "code",
      "metadata": {
        "jukit_cell_id": "yQB6fLcUWK"
      },
      "source": [
        "import datetime\n",
        "from tradingstrategy.timebucket import TimeBucket\n",
        "from tradingstrategy.chain import ChainId\n",
        "\n",
        "backtester = Backtester()\n",
        "\n",
        "backtester.create_universe(\n",
        "    timeframe=TimeBucket.h4,\n",
        "    trading_pair=(\"WBNB\", \"BUSD\"),\n",
        "    chain_id=ChainId.bsc,\n",
        "    exchange_slug=\"pancakeswap-v2\",\n",
        ")"
      ],
      "outputs": [],
      "execution_count": null
    },
    {
      "cell_type": "code",
      "metadata": {
        "jukit_cell_id": "0odf4siOwY"
      },
      "source": [
        "ma_long = 216\n",
        "ma_short = 9\n",
        "rsi_cutt = 13\n",
        "batch_size = ma_long\n",
        "import talib\n",
        "\n",
        "\n",
        "def calculate_indicators(candles, timestamp: pd.Timestamp):\n",
        "    close = candles[\"close\"]\n",
        "\n",
        "    # Calculate exponential moving averages based on slow and fast sample numbers.\n",
        "    sma_short_series = sma(close, length=ma_short)\n",
        "    sma_long_series = sma(close, length=ma_long)\n",
        "    rsi_series = ta.rsi(close, length=2)\n",
        "    # rsi_series = talib.RSI(close, timeperiod=2)\n",
        "\n",
        "    if sma_long_series is None or rsi_series is None:\n",
        "        return None, None\n",
        "\n",
        "    sma_long = sma_long_series.iloc[-1]\n",
        "    sma_short = sma_short_series.iloc[-1]\n",
        "    my_rsi = rsi_series.iloc[-1]\n",
        "\n",
        "    return sma_short, sma_long, my_rsi\n",
        "\n",
        "\n",
        "def calculate_size(state, close):\n",
        "    # How much cash we have in the hand\n",
        "    cash = state.portfolio.get_current_cash()\n",
        "    return cash * 0.99\n",
        "    # return cash\n",
        "    return cash / close\n",
        "\n",
        "\n",
        "def loop(\n",
        "    timestamp: pd.Timestamp,\n",
        "    universe: Universe,\n",
        "    state: State,\n",
        "    pricing_model,\n",
        "    cycle_debug_data: Dict,\n",
        ") -> List[TradeExecution]:\n",
        "    # The pair we are trading\n",
        "    pair = universe.pairs.get_single()\n",
        "    pair.fee = 0.0050\n",
        "\n",
        "    candles: pd.DataFrame = universe.candles.get_single_pair_data(\n",
        "        timestamp, sample_count=batch_size\n",
        "    )\n",
        "\n",
        "    open, high, low, close = (\n",
        "        candles[\"open\"],\n",
        "        candles[\"high\"],\n",
        "        candles[\"low\"],\n",
        "        candles[\"close\"],\n",
        "    )\n",
        "    # print(\"==========\")\n",
        "    # print(close)\n",
        "    sma_short, sma_long, my_rsi = calculate_indicators(candles, timestamp)\n",
        "\n",
        "    # if sma_short is None or sma_long is None:\n",
        "    #     # Cannot calculate EMA, because\n",
        "    #     # not enough samples in backtesting\n",
        "    #     print(\"We have none\")\n",
        "    #     return []\n",
        "    current_price = close.iloc[-1]\n",
        "    # print(close)\n",
        "\n",
        "    # List of any trades we decide on this cycle.\n",
        "    # Because the strategy is simple, there can be\n",
        "    # only zero (do nothing) or 1 (open or close) trades\n",
        "    # decides\n",
        "    trades = []\n",
        "\n",
        "    # Create a position manager helper class that allows us easily to create\n",
        "    # opening/closing trades for different positions\n",
        "    position_manager = PositionManager(timestamp, universe, state, pricing_model)\n",
        "\n",
        "    if current_price >= sma_long and my_rsi <= rsi_cutt:\n",
        "        # Entry condition:\n",
        "        if not position_manager.is_any_open():\n",
        "            # print(\"====================\")\n",
        "            # print(open.tail(3))\n",
        "            # print(high.tail(3))\n",
        "            # print(low.tail(3))\n",
        "            # print(close.tail(3))\n",
        "            # print(\"==========\")\n",
        "            # print(sma_long)\n",
        "            # print(sma_short)\n",
        "            # print(my_rsi)\n",
        "            buy_amount = calculate_size(state, current_price)\n",
        "            trades += position_manager.open_1x_long(pair, buy_amount)\n",
        "    elif current_price > sma_short:\n",
        "        # Exit condition:\n",
        "        if position_manager.is_any_open():\n",
        "            trades += position_manager.close_all()\n",
        "\n",
        "    # plot(state, timestamp, sma, rsi)\n",
        "    plot(state, timestamp, sma_long, sma_short, my_rsi)\n",
        "\n",
        "    return trades\n",
        "\n",
        "\n",
        "start_at = datetime.datetime(2021, 7, 25)\n",
        "end_at = datetime.datetime(2021, 9, 11)\n",
        "\n",
        "\n",
        "backtester.backtest(start_at, end_at, loop)\n",
        "backtester.stats()\n",
        "backtester.general_stats()\n",
        "backtester.plot()"
      ],
      "outputs": [
        {
          "output_type": "stream",
          "name": "stdout",
          "text": "Backtesting completed, backtested strategy made 6 trades\n                             Strategy\nStart Period               2021-07-24\nEnd Period                 2021-09-10\nRisk-Free Rate                   0.0%\nTime in Market                  13.0%\nCumulative Return             -12.31%\nCAGR\ufe6a                         -63.17%\nSharpe                          -1.67\nProb. Sharpe Ratio             14.81%\nSmart Sharpe                    -1.48\nSortino                         -1.77\nSmart Sortino                   -1.56\nSortino/\u221a2                      -1.25\nSmart Sortino/\u221a2                 -1.1\nOmega                            0.38\nMax Drawdown                  -16.82%\nLongest DD Days                     3\nVolatility (ann.)              35.23%\nCalmar                          -3.76\nSkew                            -6.86\nKurtosis                        56.77\nExpected Daily                 -0.18%\nExpected Monthly               -4.28%\nExpected Yearly               -12.31%\nKelly Criterion               -71.03%\nRisk of Ruin                     0.0%\nDaily Value-at-Risk            -3.19%\nExpected Shortfall (cVaR)      -3.19%\nMax Consecutive Wins                2\nMax Consecutive Losses              3\nGain/Pain Ratio                 -0.65\nGain/Pain (1M)                  -0.72\nPayoff Ratio                     0.48\nProfit Factor                    0.38\nCommon Sense Ratio               0.01\nCPC Index                        0.08\nTail Ratio                       0.02\nOutlier Win Ratio               25.01\nOutlier Loss Ratio               1.35\nMTD                           -16.04%\n3M                            -12.31%\n6M                            -12.31%\nYTD                           -12.31%\n1Y                            -12.31%\n3Y (ann.)                     -63.17%\n5Y (ann.)                     -63.17%\n10Y (ann.)                    -63.17%\nAll-time (ann.)               -63.17%\nBest Day                        4.31%\nWorst Day                     -14.76%\nBest Month                      4.45%\nWorst Month                   -16.04%\nBest Year                     -12.31%\nWorst Year                    -12.31%\nAvg. Drawdown                  -6.26%\nAvg. Drawdown Days                  1\nRecovery Factor                 -0.73\nUlcer Index                      0.04\nSerenity Index                  -0.68\nAvg. Up Month                   4.45%\nAvg. Down Month               -16.04%\nWin Days                       44.44%\nWin Month                       50.0%\nWin Quarter                      0.0%\nWin Year                         0.0%\n==========\nTotal return: -12.31%\nMax Drawdown: -16.82%\n                                                 0\nTrading period length                      36 days\nReturn %                                   -12.31%\nAnnualised return %                       -122.54%\nCash at start                           $10,000.00\nValue at end                             $8,769.05\nTrade volume                            $59,707.80\nPosition win percent                        66.67%\nTotal positions                                  3\nWon positions                                    2\nLost positions                                   1\nStop losses triggered                            0\nStop loss % of all                           0.00%\nStop loss % of lost                          0.00%\nWinning stop losses                              0\nWinning stop losses percent                      -\nLosing stop losses                               0\nLosing stop losses percent                       -\nTake profits triggered                           0\nTake profit % of all                         0.00%\nTake profit % of won                         0.00%\nZero profit positions                            0\nPositions open at the end                        0\nRealised profit and loss                $-1,230.95\nPortfolio unrealised value                   $0.00\nExtra returns on lending pool interest       $0.00\nCash left at the end                     $8,769.05\nAverage winning position profit %            2.23%\nAverage losing position loss %             -16.20%\nBiggest winning position %                   3.36%\nBiggest losing position %                  -16.20%\nAverage duration of winning positions       1 days\nAverage duration of losing positions        2 days\nLP fees paid                               $299.27\nLP fees paid % of volume                     0.50%\nAverage position:                           -3.92%\nMedian position:                             1.10%\nMost consecutive wins                            2\nMost consecutive losses                          1\nBiggest realized risk                      -16.04%\nAvg realised risk                          -16.04%\nMax pullback of total capital              -19.11%\nMax loss risk at opening of position        99.00%\n"
        }
      ],
      "execution_count": 1
    },
    {
      "cell_type": "code",
      "metadata": {
        "jukit_cell_id": "twF6gWbIHX"
      },
      "source": [
        "from tradeexecutor.analysis.trade_analyser import build_trade_analysis\n",
        "from IPython.core.display_functions import display\n",
        "\n",
        "analysis = build_trade_analysis(backtester.state.portfolio)\n",
        "from tradeexecutor.analysis.trade_analyser import expand_timeline\n",
        "\n",
        "timeline = analysis.create_timeline()\n",
        "\n",
        "expanded_timeline, apply_styles = expand_timeline(\n",
        "    backtester.universe.universe.exchanges, backtester.universe.universe.pairs, timeline\n",
        ")\n",
        "\n",
        "expanded_timeline.drop(\n",
        "    columns=[\n",
        "        \"Id\",\n",
        "        \"Remarks\",\n",
        "        \"Exchange\",\n",
        "        \"Trade count\",\n",
        "        \"Duration\",\n",
        "        \"Base asset\",\n",
        "        \"Quote asset\",\n",
        "        \"PnL %\",\n",
        "        \"PnL % raw\",\n",
        "    ],\n",
        "    inplace=True,\n",
        ")\n",
        "expanded_timeline.head()"
      ],
      "outputs": [
        {
          "output_type": "stream",
          "name": "stdout",
          "text": "\n"
        },
        {
          "output_type": "execute_result",
          "execution_count": 2,
          "data": {
            "text/plain": "    Opened at Position max value     PnL USD Open mid price USD Close mid price USD LP fees\n0  2021-08-03          $9,900.00     $383.84        $321.778790         $334.254828  $50.52\n1  2021-08-27         $10,280.01     $164.69        $480.338935         $488.034211  $51.88\n2  2021-09-07         $10,443.05  $-1,648.35        $492.870889         $415.075098  $48.15"
          },
          "metadata": {}
        }
      ],
      "execution_count": 2
    },
    {
      "cell_type": "code",
      "metadata": {
        "jukit_cell_id": "MWZUTmPv42"
      },
      "source": [],
      "outputs": [],
      "execution_count": null
    },
    {
      "cell_type": "code",
      "metadata": {
        "jukit_cell_id": "tjbHOH24M2"
      },
      "source": [
        "#\n",
        "#\n",
        "# from lib.fetch_ohlc import fetch_ohlc\n",
        "#\n",
        "# candles = fetch_ohlc(\n",
        "#     timeframe=TimeBucket.h4,\n",
        "#     trading_pair=(\"WBNB\", \"BUSD\"),\n",
        "#     chain_id=ChainId.bsc,\n",
        "#     exchange_slug=\"pancakeswap-v2\",\n",
        "# )\n",
        "# candles\n",
        "# candles.to_parquet(\"WBNB-BUSD-h4.parquet\")"
      ],
      "outputs": [],
      "execution_count": null
    }
  ],
  "metadata": {
    "anaconda-cloud": {},
    "kernelspec": {
      "display_name": "python",
      "language": "python",
      "name": "python3"
    }
  },
  "nbformat": 4,
  "nbformat_minor": 4
}